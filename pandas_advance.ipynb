{
 "cells": [
  {
   "cell_type": "code",
   "execution_count": 66,
   "id": "afe214b5-6c1e-419f-a715-8df969087ca2",
   "metadata": {},
   "outputs": [],
   "source": [
    "import pandas as pd"
   ]
  },
  {
   "cell_type": "code",
   "execution_count": 112,
   "id": "0dcf65c9-cf92-4f57-8d92-696c76c1ed17",
   "metadata": {},
   "outputs": [
    {
     "name": "stdout",
     "output_type": "stream",
     "text": [
      "a    1\n",
      "b    2\n",
      "c    3\n",
      "dtype: int64\n",
      "a    1\n",
      "b    2\n",
      "c    3\n",
      "dtype: int64\n"
     ]
    }
   ],
   "source": [
    "# indexing or labelling\n",
    "d = [1,2,3]\n",
    "series = pd.Series(d, index=['a','b','c'])\n",
    "print(series)\n",
    "series1 = pd.Series({'a':1, 'b':2, 'c':3})\n",
    "print(series1)"
   ]
  },
  {
   "cell_type": "code",
   "execution_count": 113,
   "id": "bcd1d4ca-4081-417a-a3d3-7fe343c9060a",
   "metadata": {},
   "outputs": [
    {
     "data": {
      "text/plain": [
       "b    2\n",
       "a    1\n",
       "c    3\n",
       "dtype: int64"
      ]
     },
     "execution_count": 113,
     "metadata": {},
     "output_type": "execute_result"
    }
   ],
   "source": [
    "\n",
    "data = {'a':1, 'b':2, 'c':3}\n",
    "series_data = pd.Series(data, index=['b', 'a', 'c'])\n",
    "series_data"
   ]
  },
  {
   "cell_type": "code",
   "execution_count": 134,
   "id": "ffeedc8e-fb9c-4830-8a09-3a138a7cc0cb",
   "metadata": {},
   "outputs": [
    {
     "name": "stderr",
     "output_type": "stream",
     "text": [
      "<>:2: SyntaxWarning: invalid escape sequence '\\D'\n",
      "<>:2: SyntaxWarning: invalid escape sequence '\\D'\n",
      "C:\\Users\\nisha\\AppData\\Local\\Temp\\ipykernel_19848\\2808853850.py:2: SyntaxWarning: invalid escape sequence '\\D'\n",
      "  df = pd.read_csv(\"E:\\DE_Project\\dataset\\processed_amazon_sales_report.csv\")\n"
     ]
    },
    {
     "data": {
      "text/html": [
       "<div>\n",
       "<style scoped>\n",
       "    .dataframe tbody tr th:only-of-type {\n",
       "        vertical-align: middle;\n",
       "    }\n",
       "\n",
       "    .dataframe tbody tr th {\n",
       "        vertical-align: top;\n",
       "    }\n",
       "\n",
       "    .dataframe thead th {\n",
       "        text-align: right;\n",
       "    }\n",
       "</style>\n",
       "<table border=\"1\" class=\"dataframe\">\n",
       "  <thead>\n",
       "    <tr style=\"text-align: right;\">\n",
       "      <th></th>\n",
       "      <th>INDEX</th>\n",
       "      <th>ORDER_ID</th>\n",
       "      <th>DATE</th>\n",
       "      <th>STATUS</th>\n",
       "      <th>FULFILMENT</th>\n",
       "      <th>SALES_CHANNEL</th>\n",
       "      <th>SHIP_SERVICE_LEVEL</th>\n",
       "      <th>STYLE</th>\n",
       "      <th>SKU</th>\n",
       "      <th>CATEGORY</th>\n",
       "      <th>...</th>\n",
       "      <th>COURIER_STATUS</th>\n",
       "      <th>QTY</th>\n",
       "      <th>CURRENCY</th>\n",
       "      <th>AMOUNT</th>\n",
       "      <th>SHIP_CITY</th>\n",
       "      <th>SHIP_STATE</th>\n",
       "      <th>SHIP_POSTAL_CODE</th>\n",
       "      <th>SHIP_COUNTRY</th>\n",
       "      <th>B2B</th>\n",
       "      <th>FULFILLED_BY</th>\n",
       "    </tr>\n",
       "  </thead>\n",
       "  <tbody>\n",
       "    <tr>\n",
       "      <th>0</th>\n",
       "      <td>0</td>\n",
       "      <td>405-8078784-5731545</td>\n",
       "      <td>2022-04-30</td>\n",
       "      <td>Cancelled</td>\n",
       "      <td>Merchant</td>\n",
       "      <td>Amazon.in</td>\n",
       "      <td>Standard</td>\n",
       "      <td>SET389</td>\n",
       "      <td>SET389-KR-NP-S</td>\n",
       "      <td>Set</td>\n",
       "      <td>...</td>\n",
       "      <td>Cancelled</td>\n",
       "      <td>0</td>\n",
       "      <td>INR</td>\n",
       "      <td>647.62</td>\n",
       "      <td>MUMBAI</td>\n",
       "      <td>MAHARASHTRA</td>\n",
       "      <td>400081</td>\n",
       "      <td>IN</td>\n",
       "      <td>False</td>\n",
       "      <td>Easy Ship</td>\n",
       "    </tr>\n",
       "    <tr>\n",
       "      <th>1</th>\n",
       "      <td>1</td>\n",
       "      <td>171-9198151-1101146</td>\n",
       "      <td>2022-04-30</td>\n",
       "      <td>Shipped</td>\n",
       "      <td>Merchant</td>\n",
       "      <td>Amazon.in</td>\n",
       "      <td>Standard</td>\n",
       "      <td>JNE3781</td>\n",
       "      <td>JNE3781-KR-XXXL</td>\n",
       "      <td>kurta</td>\n",
       "      <td>...</td>\n",
       "      <td>Shipped</td>\n",
       "      <td>1</td>\n",
       "      <td>INR</td>\n",
       "      <td>406.00</td>\n",
       "      <td>BENGALURU</td>\n",
       "      <td>KARNATAKA</td>\n",
       "      <td>560085</td>\n",
       "      <td>IN</td>\n",
       "      <td>False</td>\n",
       "      <td>Easy Ship</td>\n",
       "    </tr>\n",
       "    <tr>\n",
       "      <th>2</th>\n",
       "      <td>2</td>\n",
       "      <td>404-0687676-7273146</td>\n",
       "      <td>2022-04-30</td>\n",
       "      <td>Shipped</td>\n",
       "      <td>Amazon</td>\n",
       "      <td>Amazon.in</td>\n",
       "      <td>Expedited</td>\n",
       "      <td>JNE3371</td>\n",
       "      <td>JNE3371-KR-XL</td>\n",
       "      <td>kurta</td>\n",
       "      <td>...</td>\n",
       "      <td>Shipped</td>\n",
       "      <td>1</td>\n",
       "      <td>INR</td>\n",
       "      <td>329.00</td>\n",
       "      <td>NAVI MUMBAI</td>\n",
       "      <td>MAHARASHTRA</td>\n",
       "      <td>410210</td>\n",
       "      <td>IN</td>\n",
       "      <td>True</td>\n",
       "      <td>Easy Ship</td>\n",
       "    </tr>\n",
       "    <tr>\n",
       "      <th>3</th>\n",
       "      <td>3</td>\n",
       "      <td>403-9615377-8133951</td>\n",
       "      <td>2022-04-30</td>\n",
       "      <td>Cancelled</td>\n",
       "      <td>Merchant</td>\n",
       "      <td>Amazon.in</td>\n",
       "      <td>Standard</td>\n",
       "      <td>J0341</td>\n",
       "      <td>J0341-DR-L</td>\n",
       "      <td>Western Dress</td>\n",
       "      <td>...</td>\n",
       "      <td>Cancelled</td>\n",
       "      <td>0</td>\n",
       "      <td>INR</td>\n",
       "      <td>753.33</td>\n",
       "      <td>PUDUCHERRY</td>\n",
       "      <td>PUDUCHERRY</td>\n",
       "      <td>605008</td>\n",
       "      <td>IN</td>\n",
       "      <td>False</td>\n",
       "      <td>Easy Ship</td>\n",
       "    </tr>\n",
       "    <tr>\n",
       "      <th>4</th>\n",
       "      <td>4</td>\n",
       "      <td>407-1069790-7240320</td>\n",
       "      <td>2022-04-30</td>\n",
       "      <td>Shipped</td>\n",
       "      <td>Amazon</td>\n",
       "      <td>Amazon.in</td>\n",
       "      <td>Expedited</td>\n",
       "      <td>JNE3671</td>\n",
       "      <td>JNE3671-TU-XXXL</td>\n",
       "      <td>Top</td>\n",
       "      <td>...</td>\n",
       "      <td>Shipped</td>\n",
       "      <td>1</td>\n",
       "      <td>INR</td>\n",
       "      <td>574.00</td>\n",
       "      <td>CHENNAI</td>\n",
       "      <td>TAMIL NADU</td>\n",
       "      <td>600073</td>\n",
       "      <td>IN</td>\n",
       "      <td>False</td>\n",
       "      <td>Easy Ship</td>\n",
       "    </tr>\n",
       "    <tr>\n",
       "      <th>5</th>\n",
       "      <td>5</td>\n",
       "      <td>404-1490984-4578765</td>\n",
       "      <td>2022-04-30</td>\n",
       "      <td>Shipped</td>\n",
       "      <td>Amazon</td>\n",
       "      <td>Amazon.in</td>\n",
       "      <td>Expedited</td>\n",
       "      <td>SET264</td>\n",
       "      <td>SET264-KR-NP-XL</td>\n",
       "      <td>Set</td>\n",
       "      <td>...</td>\n",
       "      <td>Shipped</td>\n",
       "      <td>1</td>\n",
       "      <td>INR</td>\n",
       "      <td>824.00</td>\n",
       "      <td>GHAZIABAD</td>\n",
       "      <td>UTTAR PRADESH</td>\n",
       "      <td>201102</td>\n",
       "      <td>IN</td>\n",
       "      <td>False</td>\n",
       "      <td>Easy Ship</td>\n",
       "    </tr>\n",
       "    <tr>\n",
       "      <th>6</th>\n",
       "      <td>6</td>\n",
       "      <td>408-5748499-6859555</td>\n",
       "      <td>2022-04-30</td>\n",
       "      <td>Shipped</td>\n",
       "      <td>Amazon</td>\n",
       "      <td>Amazon.in</td>\n",
       "      <td>Expedited</td>\n",
       "      <td>J0095</td>\n",
       "      <td>J0095-SET-L</td>\n",
       "      <td>Set</td>\n",
       "      <td>...</td>\n",
       "      <td>Shipped</td>\n",
       "      <td>1</td>\n",
       "      <td>INR</td>\n",
       "      <td>653.00</td>\n",
       "      <td>CHANDIGARH</td>\n",
       "      <td>CHANDIGARH</td>\n",
       "      <td>160036</td>\n",
       "      <td>IN</td>\n",
       "      <td>False</td>\n",
       "      <td>Easy Ship</td>\n",
       "    </tr>\n",
       "    <tr>\n",
       "      <th>7</th>\n",
       "      <td>7</td>\n",
       "      <td>406-7807733-3785945</td>\n",
       "      <td>2022-04-30</td>\n",
       "      <td>Shipped</td>\n",
       "      <td>Merchant</td>\n",
       "      <td>Amazon.in</td>\n",
       "      <td>Standard</td>\n",
       "      <td>JNE3405</td>\n",
       "      <td>JNE3405-KR-S</td>\n",
       "      <td>kurta</td>\n",
       "      <td>...</td>\n",
       "      <td>Shipped</td>\n",
       "      <td>1</td>\n",
       "      <td>INR</td>\n",
       "      <td>399.00</td>\n",
       "      <td>HYDERABAD</td>\n",
       "      <td>TELANGANA</td>\n",
       "      <td>500032</td>\n",
       "      <td>IN</td>\n",
       "      <td>False</td>\n",
       "      <td>Easy Ship</td>\n",
       "    </tr>\n",
       "    <tr>\n",
       "      <th>8</th>\n",
       "      <td>8</td>\n",
       "      <td>407-5443024-5233168</td>\n",
       "      <td>2022-04-30</td>\n",
       "      <td>Cancelled</td>\n",
       "      <td>Amazon</td>\n",
       "      <td>Amazon.in</td>\n",
       "      <td>Expedited</td>\n",
       "      <td>SET200</td>\n",
       "      <td>SET200-KR-NP-A-XXXL</td>\n",
       "      <td>Set</td>\n",
       "      <td>...</td>\n",
       "      <td>Cancelled</td>\n",
       "      <td>0</td>\n",
       "      <td>INR</td>\n",
       "      <td>NaN</td>\n",
       "      <td>HYDERABAD</td>\n",
       "      <td>TELANGANA</td>\n",
       "      <td>500008</td>\n",
       "      <td>IN</td>\n",
       "      <td>False</td>\n",
       "      <td>Easy Ship</td>\n",
       "    </tr>\n",
       "    <tr>\n",
       "      <th>9</th>\n",
       "      <td>9</td>\n",
       "      <td>402-4393761-0311520</td>\n",
       "      <td>2022-04-30</td>\n",
       "      <td>Shipped</td>\n",
       "      <td>Amazon</td>\n",
       "      <td>Amazon.in</td>\n",
       "      <td>Expedited</td>\n",
       "      <td>JNE3461</td>\n",
       "      <td>JNE3461-KR-XXL</td>\n",
       "      <td>kurta</td>\n",
       "      <td>...</td>\n",
       "      <td>Shipped</td>\n",
       "      <td>1</td>\n",
       "      <td>INR</td>\n",
       "      <td>363.00</td>\n",
       "      <td>Chennai</td>\n",
       "      <td>TAMIL NADU</td>\n",
       "      <td>600041</td>\n",
       "      <td>IN</td>\n",
       "      <td>False</td>\n",
       "      <td>Easy Ship</td>\n",
       "    </tr>\n",
       "  </tbody>\n",
       "</table>\n",
       "<p>10 rows × 22 columns</p>\n",
       "</div>"
      ],
      "text/plain": [
       "   INDEX             ORDER_ID        DATE     STATUS FULFILMENT SALES_CHANNEL  \\\n",
       "0      0  405-8078784-5731545  2022-04-30  Cancelled   Merchant     Amazon.in   \n",
       "1      1  171-9198151-1101146  2022-04-30    Shipped   Merchant     Amazon.in   \n",
       "2      2  404-0687676-7273146  2022-04-30    Shipped     Amazon     Amazon.in   \n",
       "3      3  403-9615377-8133951  2022-04-30  Cancelled   Merchant     Amazon.in   \n",
       "4      4  407-1069790-7240320  2022-04-30    Shipped     Amazon     Amazon.in   \n",
       "5      5  404-1490984-4578765  2022-04-30    Shipped     Amazon     Amazon.in   \n",
       "6      6  408-5748499-6859555  2022-04-30    Shipped     Amazon     Amazon.in   \n",
       "7      7  406-7807733-3785945  2022-04-30    Shipped   Merchant     Amazon.in   \n",
       "8      8  407-5443024-5233168  2022-04-30  Cancelled     Amazon     Amazon.in   \n",
       "9      9  402-4393761-0311520  2022-04-30    Shipped     Amazon     Amazon.in   \n",
       "\n",
       "  SHIP_SERVICE_LEVEL    STYLE                  SKU       CATEGORY  ...  \\\n",
       "0           Standard   SET389       SET389-KR-NP-S            Set  ...   \n",
       "1           Standard  JNE3781      JNE3781-KR-XXXL          kurta  ...   \n",
       "2          Expedited  JNE3371        JNE3371-KR-XL          kurta  ...   \n",
       "3           Standard    J0341           J0341-DR-L  Western Dress  ...   \n",
       "4          Expedited  JNE3671      JNE3671-TU-XXXL            Top  ...   \n",
       "5          Expedited   SET264      SET264-KR-NP-XL            Set  ...   \n",
       "6          Expedited    J0095          J0095-SET-L            Set  ...   \n",
       "7           Standard  JNE3405         JNE3405-KR-S          kurta  ...   \n",
       "8          Expedited   SET200  SET200-KR-NP-A-XXXL            Set  ...   \n",
       "9          Expedited  JNE3461       JNE3461-KR-XXL          kurta  ...   \n",
       "\n",
       "  COURIER_STATUS QTY CURRENCY  AMOUNT    SHIP_CITY     SHIP_STATE  \\\n",
       "0      Cancelled   0      INR  647.62       MUMBAI    MAHARASHTRA   \n",
       "1        Shipped   1      INR  406.00    BENGALURU      KARNATAKA   \n",
       "2        Shipped   1      INR  329.00  NAVI MUMBAI    MAHARASHTRA   \n",
       "3      Cancelled   0      INR  753.33   PUDUCHERRY     PUDUCHERRY   \n",
       "4        Shipped   1      INR  574.00      CHENNAI     TAMIL NADU   \n",
       "5        Shipped   1      INR  824.00    GHAZIABAD  UTTAR PRADESH   \n",
       "6        Shipped   1      INR  653.00   CHANDIGARH     CHANDIGARH   \n",
       "7        Shipped   1      INR  399.00    HYDERABAD      TELANGANA   \n",
       "8      Cancelled   0      INR     NaN    HYDERABAD      TELANGANA   \n",
       "9        Shipped   1      INR  363.00      Chennai     TAMIL NADU   \n",
       "\n",
       "  SHIP_POSTAL_CODE SHIP_COUNTRY    B2B FULFILLED_BY  \n",
       "0           400081           IN  False    Easy Ship  \n",
       "1           560085           IN  False    Easy Ship  \n",
       "2           410210           IN   True    Easy Ship  \n",
       "3           605008           IN  False    Easy Ship  \n",
       "4           600073           IN  False    Easy Ship  \n",
       "5           201102           IN  False    Easy Ship  \n",
       "6           160036           IN  False    Easy Ship  \n",
       "7           500032           IN  False    Easy Ship  \n",
       "8           500008           IN  False    Easy Ship  \n",
       "9           600041           IN  False    Easy Ship  \n",
       "\n",
       "[10 rows x 22 columns]"
      ]
     },
     "execution_count": 134,
     "metadata": {},
     "output_type": "execute_result"
    }
   ],
   "source": [
    "#Processed file, that we have prepared in the last session\n",
    "df = pd.read_csv(\"E:\\DE_Project\\dataset\\processed_amazon_sales_report.csv\")\n",
    "df.head(10)"
   ]
  },
  {
   "cell_type": "code",
   "execution_count": null,
   "id": "00fbed0d-74a4-494d-b433-1372d929f12f",
   "metadata": {},
   "outputs": [],
   "source": [
    "# df = pd.read_csv(\"C:\\Users\\nisha\\OneDrive\\Desktop\\dataengineer session\\processed_amazon_sales_report.csv\")           \n",
    "# SyntaxError: (unicode error) 'unicodeescape' codec can't decode bytes in position 2-3: truncated \\UXXXXXXXX escape\n"
   ]
  },
  {
   "cell_type": "code",
   "execution_count": 116,
   "id": "85c0ad3a-6eb2-4362-b7ad-dd078bbdec99",
   "metadata": {},
   "outputs": [
    {
     "data": {
      "text/plain": [
       "STATUS\n",
       "Shipped      91\n",
       "Cancelled     9\n",
       "Name: count, dtype: int64"
      ]
     },
     "execution_count": 116,
     "metadata": {},
     "output_type": "execute_result"
    }
   ],
   "source": [
    "#count the number\n",
    "order_status_count = df['STATUS'].value_counts()\n",
    "order_status_count\n",
    "# value_counts() will count the occurrences of each unique value in the Status column."
   ]
  },
  {
   "cell_type": "code",
   "execution_count": 118,
   "id": "be111f84-6e7c-4961-a3e0-61b92ed9b475",
   "metadata": {},
   "outputs": [
    {
     "name": "stdout",
     "output_type": "stream",
     "text": [
      "0.099\n"
     ]
    }
   ],
   "source": [
    "#Calculate the ratio\n",
    "cancelled = df['STATUS'].value_counts().get('Cancelled', 0)\n",
    "delivered = df['STATUS'].value_counts().get('Shipped', 0)\n",
    "\n",
    "ratio = cancelled/delivered if delivered != 0 else 0\n",
    "\n",
    "print(round(ratio, 3))"
   ]
  },
  {
   "cell_type": "code",
   "execution_count": 119,
   "id": "69d1cfbc-4633-43b3-ae1f-7a9e0b668b89",
   "metadata": {},
   "outputs": [
    {
     "name": "stdout",
     "output_type": "stream",
     "text": [
      "6\n",
      "['Set' 'kurta' 'Western Dress' 'Top' 'Ethnic Dress' 'Bottom']\n"
     ]
    }
   ],
   "source": [
    "# total how many categories\n",
    "num_categories = df['CATEGORY'].nunique()\n",
    "print(num_categories)\n",
    "\n",
    "#name of the categories\n",
    "name_catego = df['CATEGORY'].unique()\n",
    "print(name_catego)"
   ]
  },
  {
   "cell_type": "code",
   "execution_count": 123,
   "id": "c8d7ada8-8b4f-463d-af21-8bf5c733b3ba",
   "metadata": {},
   "outputs": [
    {
     "name": "stdout",
     "output_type": "stream",
     "text": [
      "620.1135789473684\n"
     ]
    }
   ],
   "source": [
    "# avg_amount\n",
    "avg_amount = df['AMOUNT'].mean()\n",
    "print(avg_amount)"
   ]
  },
  {
   "cell_type": "code",
   "execution_count": 125,
   "id": "c8a6dbb4-8ffd-424b-a154-7be9d3e1479c",
   "metadata": {},
   "outputs": [],
   "source": [
    "# The groupby() function in pandas is used to group data by one or more columns and then apply an aggregation or transformation to each group independently. This is particularly useful for summarizing large datasets.\n",
    "# df.groupby('column_name').agg_function()\n",
    "# sum(): Returns the sum of values for each group.\n",
    "# mean(): Returns the average of values for each group.\n",
    "# count(): Returns the count of values for each group.\n",
    "# max(): Returns the maximum value in each group.\n",
    "# min(): Returns the minimum value in each group."
   ]
  },
  {
   "cell_type": "code",
   "execution_count": 126,
   "id": "bd5430f8-f362-4145-97c6-578cf22ff42d",
   "metadata": {},
   "outputs": [],
   "source": [
    "data = {\n",
    "    'Product': ['Shirt', 'Shoes', 'Shirt', 'Hat', 'Shoes', 'Shirt'],\n",
    "    'Category': ['Clothing', 'Footwear', 'Clothing', 'Accessories', 'Footwear', 'Clothing'],\n",
    "    'Price': [150, 250, 200, 100, 300, 250],\n",
    "    'Quantity': [1, 2, 3, 1, 1, 2]\n",
    "}\n",
    "\n",
    "sample_df = pd.DataFrame(data)"
   ]
  },
  {
   "cell_type": "code",
   "execution_count": 127,
   "id": "940f8f8e-cdf2-408e-a0c9-d5578dcab2e4",
   "metadata": {},
   "outputs": [
    {
     "name": "stdout",
     "output_type": "stream",
     "text": [
      "                         Category  Price  Quantity\n",
      "Product                                           \n",
      "Hat                   Accessories    100         1\n",
      "Shirt    ClothingClothingClothing    600         6\n",
      "Shoes            FootwearFootwear    550         3\n",
      "                     Price  Quantity\n",
      "Product Category                    \n",
      "Hat     Accessories    100         1\n",
      "Shirt   Clothing       600         6\n",
      "Shoes   Footwear       550         3\n",
      "         Price  Quantity\n",
      "Product                 \n",
      "Hat        100       1.0\n",
      "Shirt      600       2.0\n",
      "Shoes      550       1.5\n"
     ]
    }
   ],
   "source": [
    "# Grouping by single Column\n",
    "grouped_df = sample_df.groupby('Product').sum()\n",
    "print(grouped_df)\n",
    "\n",
    "# Grouping by Multiple Columns\n",
    "grouped_df = sample_df.groupby(['Product', 'Category']).sum()\n",
    "print(grouped_df)\n",
    "\n",
    "# You can apply multiple aggregation functions to different columns using .agg().\n",
    "grouped_df = sample_df.groupby('Product').agg({'Price': 'sum', 'Quantity': 'mean'})\n",
    "print(grouped_df)\n"
   ]
  },
  {
   "cell_type": "code",
   "execution_count": 128,
   "id": "79e65c2b-b037-42a5-b460-91b047444416",
   "metadata": {},
   "outputs": [
    {
     "name": "stdout",
     "output_type": "stream",
     "text": [
      "  Product  Category  Price  Quantity\n",
      "0   Shirt  Clothing    150         1\n",
      "1   Shoes  Footwear    250         2\n",
      "2   Shirt  Clothing    200         3\n",
      "4   Shoes  Footwear    300         1\n",
      "5   Shirt  Clothing    250         2\n"
     ]
    }
   ],
   "source": [
    "# You can also filter groups based on certain conditions. For example, to filter out groups where the sum of the \"Price\" is greater than 200:\n",
    "grouped_df = sample_df.groupby('Product').filter(lambda x: x['Price'].sum() > 200)\n",
    "print(grouped_df)"
   ]
  },
  {
   "cell_type": "code",
   "execution_count": null,
   "id": "a02470f1-a55b-4bb5-9cb0-cf7c864b856f",
   "metadata": {},
   "outputs": [],
   "source": [
    "# groupby() is used to group data and apply aggregate functions.\n",
    "# pivot_table() is used to reshape the data into a pivot format and also allows for aggregation, but with more flexibility in specifying rows, columns, and aggregation functions."
   ]
  },
  {
   "cell_type": "code",
   "execution_count": 130,
   "id": "3bb61f94-5390-413b-958e-6851b2f641af",
   "metadata": {},
   "outputs": [
    {
     "name": "stdout",
     "output_type": "stream",
     "text": [
      "CATEGORY       MONTH  \n",
      "Bottom         2022-04      377.00\n",
      "Ethnic Dress   2022-04      699.00\n",
      "Set            2022-04    29432.46\n",
      "Top            2022-04     2164.00\n",
      "Western Dress  2022-04     7113.33\n",
      "kurta          2022-04    19125.00\n",
      "Name: AMOUNT, dtype: float64\n"
     ]
    }
   ],
   "source": [
    "#monthly sales\n",
    "df['DATE'] = pd.to_datetime(df['DATE'])\n",
    "df['MONTH'] = df['DATE'].dt.to_period('M')\n",
    "\n",
    "monthly_sales = df.groupby(['CATEGORY', 'MONTH'])['AMOUNT'].sum()\n",
    "print(monthly_sales)"
   ]
  },
  {
   "cell_type": "code",
   "execution_count": 133,
   "id": "8829a454-64d1-492b-9932-846a58a469fc",
   "metadata": {},
   "outputs": [
    {
     "name": "stdout",
     "output_type": "stream",
     "text": [
      "  Product  Price  Increased_Price\n",
      "0   Shirt    150            165.0\n",
      "1   Shoes    250            275.0\n",
      "2     Hat    100            110.0\n"
     ]
    }
   ],
   "source": [
    "# function in pandas, call function using apply method\n",
    "\n",
    "data = {\n",
    "    'Product': ['Shirt', 'Shoes', 'Hat'],\n",
    "    'Price': [150, 250, 100]\n",
    "}\n",
    "sample_df = pd.DataFrame(data)\n",
    "\n",
    "# Custom function to increase price by 10%\n",
    "def increase_price(x):\n",
    "    return x * 1.10\n",
    "\n",
    "# Apply the function to the 'Price' column\n",
    "sample_df['Increased_Price'] = sample_df['Price'].apply(increase_price)\n",
    "\n",
    "print(df)\n"
   ]
  },
  {
   "cell_type": "code",
   "execution_count": 135,
   "id": "c9e66996-6245-4f71-859c-b946cee72998",
   "metadata": {},
   "outputs": [
    {
     "data": {
      "text/plain": [
       "CATEGORY\n",
       "Bottom            1\n",
       "Ethnic Dress      1\n",
       "Set              33\n",
       "Top               4\n",
       "Western Dress     8\n",
       "kurta            44\n",
       "Name: QTY, dtype: int64"
      ]
     },
     "execution_count": 135,
     "metadata": {},
     "output_type": "execute_result"
    }
   ],
   "source": [
    "#find the category with sales\n",
    "sold_category = df.groupby('CATEGORY')['QTY'].sum()\n",
    "sold_category"
   ]
  },
  {
   "cell_type": "code",
   "execution_count": 136,
   "id": "6396e92a-6861-435b-8615-f7ae25ac6be7",
   "metadata": {},
   "outputs": [
    {
     "data": {
      "text/plain": [
       "'kurta'"
      ]
     },
     "execution_count": 136,
     "metadata": {},
     "output_type": "execute_result"
    }
   ],
   "source": [
    "#find the category with max sales \n",
    "max_sold_category = df.groupby('CATEGORY')['QTY'].sum().idxmax()\n",
    "max_sold_category\n",
    " # idxmax() is used to return the index (or label) of the first occurrence of the maximum value in a Series or DataFrame column."
   ]
  },
  {
   "cell_type": "code",
   "execution_count": null,
   "id": "833e664e-1a6f-4a8b-9d45-763b01f7c27b",
   "metadata": {},
   "outputs": [],
   "source": [
    "# dt in Pandas\n",
    "# Purpose: The dt accessor is used to access datetime properties from a datetime column in a DataFrame.\n",
    "\n",
    "# Why use it: When working with date or time data, dt allows you to perform operations like extracting parts of a date (day, month, year) or grouping by time periods (weeks, months, years)."
   ]
  },
  {
   "cell_type": "code",
   "execution_count": 137,
   "id": "29dc4d1b-1aff-4f05-8b79-b53daa713d51",
   "metadata": {},
   "outputs": [],
   "source": [
    "df['DATE'] = pd.to_datetime(df['DATE'], format='%Y-%m-%d')"
   ]
  },
  {
   "cell_type": "code",
   "execution_count": 138,
   "id": "552256c6-d459-4510-a52e-367d5d8158fb",
   "metadata": {},
   "outputs": [
    {
     "data": {
      "text/plain": [
       "DATE\n",
       "2022-04-30    91\n",
       "Name: QTY, dtype: int64"
      ]
     },
     "execution_count": 138,
     "metadata": {},
     "output_type": "execute_result"
    }
   ],
   "source": [
    "# Total quantity shipped daily\n",
    "daily_qty = df.groupby(df['DATE'].dt.date)['QTY'].sum()\n",
    "daily_qty"
   ]
  },
  {
   "cell_type": "code",
   "execution_count": 139,
   "id": "dac232b4-8c39-4683-863d-05621cccb3a4",
   "metadata": {},
   "outputs": [
    {
     "data": {
      "text/plain": [
       "MONTH\n",
       "April    91\n",
       "Name: QTY, dtype: int64"
      ]
     },
     "execution_count": 139,
     "metadata": {},
     "output_type": "execute_result"
    }
   ],
   "source": [
    "# Total quantity shipped monthly\n",
    "df['MONTH'] = df['DATE'].dt.month_name()\n",
    "monthy_sales = df.groupby('MONTH')['QTY'].sum().sort_values(ascending=False)\n",
    "monthy_sales"
   ]
  },
  {
   "cell_type": "code",
   "execution_count": 143,
   "id": "2aac822a-762f-47b8-a451-fc3c207a1f8e",
   "metadata": {},
   "outputs": [],
   "source": [
    "# fill the avg value in the missing value in the average columns\n",
    "def fill_missing_amount(row): \n",
    "    if pd.isnull(row['AMOUNT']): \n",
    "        return df[df['CATEGORY'] == row['CATEGORY']]['AMOUNT'].mean() \n",
    "    else: return row['AMOUNT'] \n",
    "        \n",
    "# Apply the function to fill the missing values \n",
    "df['AMOUNT'] = df.apply(fill_missing_amount, axis=1)"
   ]
  },
  {
   "cell_type": "code",
   "execution_count": null,
   "id": "83e5be3d-bd0d-4339-9c89-f9d0ecbffc0c",
   "metadata": {},
   "outputs": [],
   "source": [
    "# merge() is used to combine two DataFrames based on common columns or indices. It works similarly to SQL joins (inner join, left join, right join, outer join).\n",
    "\n",
    "pd.merge(left_df, right_df, how='join_type', on='key_column')\n",
    "# join_type 'inner', 'left', 'right', 'outer'\n",
    "\n",
    "# DataFrame 1\n",
    "df1 = pd.DataFrame({\n",
    "    'Order ID': [1, 2, 3],\n",
    "    'Product': ['Shirt', 'Shoes', 'Hat'],\n",
    "    'Price': [150, 250, 100]\n",
    "})\n",
    "\n",
    "# DataFrame 2\n",
    "df2 = pd.DataFrame({\n",
    "    'Order ID': [1, 2, 4],\n",
    "    'Customer': ['John', 'Alice', 'Bob']\n",
    "})\n",
    "\n",
    "# Merging on 'Order ID' using inner join (default)\n",
    "merged_df = pd.merge(df1, df2, on='Order ID', how='inner')\n",
    "print(merged_df)\n"
   ]
  },
  {
   "cell_type": "code",
   "execution_count": null,
   "id": "a02865d5-b55f-48c7-9d41-6bc2b4d2f4ce",
   "metadata": {},
   "outputs": [],
   "source": [
    "# join() is used to combine two DataFrames based on their indices. It's more convenient when you want to join on the index rather than on a column.\n",
    "# left_df.join(right_df, how='join_type')\n",
    "\n",
    "# DataFrame 1\n",
    "df1 = pd.DataFrame({\n",
    "    'Product': ['Shirt', 'Shoes', 'Hat'],\n",
    "    'Price': [150, 250, 100]\n",
    "}, index=[1, 2, 3])\n",
    "\n",
    "# DataFrame 2\n",
    "df2 = pd.DataFrame({\n",
    "    'Customer': ['John', 'Alice', 'Bob']\n",
    "}, index=[1, 2, 4])\n",
    "\n",
    "# Joining on the index\n",
    "joined_df = df1.join(df2, how='left')\n",
    "print(joined_df)\n"
   ]
  },
  {
   "cell_type": "code",
   "execution_count": null,
   "id": "81f3f396-b45b-4c31-8fdd-48896befe1a8",
   "metadata": {},
   "outputs": [],
   "source": [
    "# concat() is used to concatenate (stack) DataFrames either along rows (vertically) or columns (horizontally).\n",
    "# It doesn’t require keys for matching like merge() or join().\n",
    "\n",
    "# DataFrame 1\n",
    "df1 = pd.DataFrame({\n",
    "    'Product': ['Shirt', 'Shoes'],\n",
    "    'Price': [150, 250]\n",
    "})\n",
    "\n",
    "# DataFrame 2\n",
    "df2 = pd.DataFrame({\n",
    "    'Product': ['Hat', 'Pants'],\n",
    "    'Price': [100, 200]\n",
    "})\n",
    "\n",
    "# Concatenating vertically (stacking rows)\n",
    "concat_df = pd.concat([df1, df2], axis=0, ignore_index=True)\n",
    "print(concat_df)\n",
    "\n",
    "# Concatenating horizontally (side by side)\n",
    "concat_df = pd.concat([df1, df2], axis=1)\n",
    "print(concat_df)\n"
   ]
  },
  {
   "cell_type": "code",
   "execution_count": null,
   "id": "a4329c05-4292-4eb1-9df6-e05c2e3d2d19",
   "metadata": {},
   "outputs": [],
   "source": []
  }
 ],
 "metadata": {
  "kernelspec": {
   "display_name": "Python 3 (ipykernel)",
   "language": "python",
   "name": "python3"
  },
  "language_info": {
   "codemirror_mode": {
    "name": "ipython",
    "version": 3
   },
   "file_extension": ".py",
   "mimetype": "text/x-python",
   "name": "python",
   "nbconvert_exporter": "python",
   "pygments_lexer": "ipython3",
   "version": "3.12.3"
  }
 },
 "nbformat": 4,
 "nbformat_minor": 5
}
